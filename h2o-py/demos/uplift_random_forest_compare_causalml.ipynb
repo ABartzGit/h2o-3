{
 "cells": [
  {
   "cell_type": "code",
   "execution_count": 1,
   "metadata": {},
   "outputs": [],
   "source": [
    "import sys\n",
    "sys.path.append(\"../../h2o-py/build/main\") # path to h2o build"
   ]
  },
  {
   "cell_type": "code",
   "execution_count": 2,
   "metadata": {},
   "outputs": [],
   "source": [
    "import sys\n",
    "# CausalML is not supported for Pyhon 2.7\n",
    "if sys.version_info < (3, 0):\n",
    "    exit(0)"
   ]
  },
  {
   "cell_type": "markdown",
   "metadata": {},
   "source": [
    "# Uplift random forest modeling - H2O-3 vs. CausalML"
   ]
  },
  {
   "cell_type": "code",
   "execution_count": 3,
   "metadata": {},
   "outputs": [
    {
     "name": "stdout",
     "output_type": "stream",
     "text": [
      "versionFromGradle='3.35.0',projectVersion='3.35.0.99999',branch='maurever_PUBDEV-4940_uplift_trees_poc',lastCommitHash='c43940b41f69d9152b49ca4b18a3cc61deb1833a',gitDescribe='jenkins-master-5639-8-gc43940b41f-dirty',compiledOn='2021-11-26 16:09:43',compiledBy='mori'\n"
     ]
    }
   ],
   "source": [
    "from causalml.inference.tree import UpliftRandomForestClassifier\n",
    "from causalml.inference.tree import uplift_tree_plot\n",
    "from causalml.metrics import plot_gain, plot_qini, plot_lift\n",
    "from causalml.metrics import auuc_score\n",
    "\n",
    "import h2o\n",
    "from h2o.estimators.uplift_random_forest import H2OUpliftRandomForestEstimator\n",
    "\n",
    "import pandas as pd\n",
    "from IPython.display import Image"
   ]
  },
  {
   "cell_type": "code",
   "execution_count": 4,
   "metadata": {},
   "outputs": [
    {
     "data": {
      "text/plain": [
       "((4989, 17), (5011, 17))"
      ]
     },
     "execution_count": 4,
     "metadata": {},
     "output_type": "execute_result"
    }
   ],
   "source": [
    "control_name = \"control\"\n",
    "treatment_column = \"treatment\"\n",
    "response_column = \"outcome\"\n",
    "feature_cols = [\"feature_\"+str(x) for x in range(1,13)]\n",
    "\n",
    "train_df = pd.read_csv(\"../../smalldata/uplift/upliftml_train.csv\")\n",
    "test_df = pd.read_csv(\"../../smalldata/uplift/upliftml_test.csv\")\n",
    "\n",
    "train_df[treatment_column].replace({1: \"treatment\", 0: \"control\"}, inplace=True)\n",
    "test_df[treatment_column].replace({1: \"treatment\", 0: \"control\"}, inplace=True)\n",
    "train_df.shape, test_df.shape"
   ]
  },
  {
   "cell_type": "code",
   "execution_count": 5,
   "metadata": {},
   "outputs": [],
   "source": [
    "ntree = 40\n",
    "max_depth = 10\n",
    "metric_cml=\"EU\"\n",
    "metric_h2o=\"Euclidean\""
   ]
  },
  {
   "cell_type": "markdown",
   "metadata": {},
   "source": [
    "# CausalML"
   ]
  },
  {
   "cell_type": "code",
   "execution_count": null,
   "metadata": {},
   "outputs": [],
   "source": [
    "# Train CausalML uplift tree\n",
    "causalml_uplift_model = UpliftRandomForestClassifier(\n",
    "        n_estimators=ntree,\n",
    "        max_depth=max_depth,\n",
    "        evaluationFunction=metric_cml,\n",
    "        control_name=control_name,\n",
    "        min_samples_leaf=10,\n",
    "        min_samples_treatment=0,\n",
    "        normalization=False,\n",
    "        random_state=42)\n",
    "\n",
    "causalml_uplift_model.fit(train_df[feature_cols].values,\n",
    "                 treatment=train_df[treatment_column].values,\n",
    "                 y=train_df[response_column].values)\n",
    "\n",
    "#test_df = train_df\n",
    "causalml_preds = causalml_uplift_model.predict(test_df.values)"
   ]
  },
  {
   "cell_type": "code",
   "execution_count": null,
   "metadata": {},
   "outputs": [],
   "source": [
    "# Plot uplift tree\n",
    "graph = uplift_tree_plot(causalml_uplift_model.uplift_forest[2].fitted_uplift_tree, feature_cols)\n",
    "Image(graph.create_png())"
   ]
  },
  {
   "cell_type": "markdown",
   "metadata": {},
   "source": [
    "# H2O-3"
   ]
  },
  {
   "cell_type": "code",
   "execution_count": null,
   "metadata": {},
   "outputs": [],
   "source": [
    "h2o.init(strict_version_check=False)"
   ]
  },
  {
   "cell_type": "code",
   "execution_count": null,
   "metadata": {},
   "outputs": [],
   "source": [
    "train_h2o = h2o.H2OFrame(train_df)\n",
    "train_h2o[treatment_column] = train_h2o[treatment_column].asfactor()\n",
    "train_h2o[response_column] = train_h2o[response_column].asfactor()\n",
    "h2o_uplift_model = H2OUpliftRandomForestEstimator(\n",
    "            ntrees=ntree,\n",
    "            max_depth=max_depth-1,\n",
    "            treatment_column=treatment_column,\n",
    "            uplift_metric=metric_h2o,\n",
    "            gainslift_bins=10,\n",
    "            min_rows=10,\n",
    "            nbins=1000,\n",
    "            seed=42,\n",
    "            sample_rate=0.50,\n",
    "            auuc_type=\"gain\",\n",
    "            score_each_iteration=False)\n",
    "h2o_uplift_model.train(y=response_column, x=feature_cols, training_frame=train_h2o)\n",
    "h2o_uplift_model"
   ]
  },
  {
   "cell_type": "code",
   "execution_count": null,
   "metadata": {},
   "outputs": [],
   "source": [
    "test_h2o = h2o.H2OFrame(test_df)\n",
    "test_h2o[treatment_column] = test_h2o[treatment_column].asfactor()\n",
    "test_h2o[response_column] = test_h2o[response_column].asfactor()\n",
    "preds_h2o = h2o_uplift_model.predict(test_h2o)\n",
    "\n",
    "perf_h2o = h2o_uplift_model.model_performance(test_h2o)\n",
    "auuc_h2o = perf_h2o.auuc()\n",
    "print(\"H2O training metrics AUUC Gain: \"+str(auuc_h2o))"
   ]
  },
  {
   "cell_type": "code",
   "execution_count": null,
   "metadata": {},
   "outputs": [],
   "source": [
    "preds_comp = preds_h2o[\"uplift_predict\"]\n",
    "preds_comp.names = [\"h2o\"]\n",
    "preds_comp[\"causal\"] = h2o.H2OFrame(causalml_preds)\n",
    "preds_comp[\"diff\"] = abs(preds_comp[\"h2o\"] - preds_comp[\"causal\"])\n",
    "preds_comp[treatment_column] = h2o.H2OFrame(test_df[treatment_column].values)\n",
    "preds_comp[response_column] = h2o.H2OFrame(test_df[response_column].values)\n",
    "preds_comp.summary()\n",
    "    \n",
    "min_diff = preds_comp[\"diff\"].min()\n",
    "max_diff = preds_comp[\"diff\"].max()\n",
    "mean_diff = preds_comp[\"diff\"].mean(return_frame=False)[0]\n",
    "print(\"min: %f max: %f mean: %f\" % (min_diff, max_diff, mean_diff))\n",
    "\n",
    "results = preds_comp.as_data_frame()\n",
    "results = results[[\"h2o\", \"causal\", response_column, treatment_column]]\n",
    "mapping = {'control': 0, 'treatment': 1}\n",
    "results = results.replace({treatment_column: mapping})\n"
   ]
  },
  {
   "cell_type": "code",
   "execution_count": null,
   "metadata": {},
   "outputs": [],
   "source": [
    "auuc = auuc_score(results, outcome_col=response_column, treatment_col=treatment_column, normalize=False)\n",
    "print(\"H2O AUUC:\")\n",
    "print(auuc[\"h2o\"])\n",
    "print(\"CauslML AUUC:\")\n",
    "print(auuc[\"causal\"])\n",
    "print(\"Random AUUC:\")\n",
    "print(auuc[\"Random\"])"
   ]
  },
  {
   "cell_type": "markdown",
   "metadata": {},
   "source": [
    "## Qini"
   ]
  },
  {
   "cell_type": "code",
   "execution_count": null,
   "metadata": {},
   "outputs": [],
   "source": [
    "plot_qini(results, outcome_col=response_column, treatment_col=treatment_column)"
   ]
  },
  {
   "cell_type": "code",
   "execution_count": null,
   "metadata": {},
   "outputs": [],
   "source": [
    "perf_h2o.plot_uplift(metric=\"qini\")\n",
    "\n",
    "n, uplift = perf_h2o.plot_uplift(metric=\"qini\", plot=False)\n",
    "print(len(n))\n",
    "print(n)\n",
    "print(uplift)"
   ]
  },
  {
   "cell_type": "markdown",
   "metadata": {},
   "source": [
    "## Lift"
   ]
  },
  {
   "cell_type": "code",
   "execution_count": null,
   "metadata": {},
   "outputs": [],
   "source": [
    "plot_lift(results, outcome_col=response_column, treatment_col=treatment_column)"
   ]
  },
  {
   "cell_type": "code",
   "execution_count": null,
   "metadata": {},
   "outputs": [],
   "source": [
    "perf_h2o.plot_uplift(metric=\"lift\")\n",
    "\n",
    "n, uplift = perf_h2o.plot_uplift(metric=\"lift\", plot=False)\n",
    "print(n)\n",
    "print(uplift)"
   ]
  },
  {
   "cell_type": "markdown",
   "metadata": {},
   "source": [
    "## Gain"
   ]
  },
  {
   "cell_type": "code",
   "execution_count": null,
   "metadata": {},
   "outputs": [],
   "source": [
    "plot_gain(results, outcome_col=response_column, treatment_col=treatment_column)"
   ]
  },
  {
   "cell_type": "code",
   "execution_count": null,
   "metadata": {},
   "outputs": [],
   "source": [
    "perf_h2o.plot_uplift(metric=\"gain\")\n",
    "\n",
    "n, uplift = perf_h2o.plot_uplift(metric=\"gain\", plot=False)\n",
    "print(n)\n",
    "print(uplift)"
   ]
  }
 ],
 "metadata": {
  "kernelspec": {
   "display_name": "Python 3",
   "language": "python",
   "name": "python3"
  },
  "language_info": {
   "codemirror_mode": {
    "name": "ipython",
    "version": 3
   },
   "file_extension": ".py",
   "mimetype": "text/x-python",
   "name": "python",
   "nbconvert_exporter": "python",
   "pygments_lexer": "ipython3",
   "version": "3.7.3rc1"
  }
 },
 "nbformat": 4,
 "nbformat_minor": 4
}
